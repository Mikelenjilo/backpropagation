{
 "cells": [
  {
   "cell_type": "code",
   "execution_count": 2,
   "id": "8a0d5df9-7ad9-4586-b019-ad0fafba7dbf",
   "metadata": {},
   "outputs": [],
   "source": [
    "import math\n",
    "import numpy as np\n",
    "import matplotlib.pyplot as plt"
   ]
  },
  {
   "cell_type": "code",
   "execution_count": 37,
   "id": "ab24795b-d82c-4cb4-a32a-5899d815e340",
   "metadata": {},
   "outputs": [],
   "source": [
    "class Value:\n",
    "    def __init__(self, data, _children=(), _op=''):\n",
    "        self.data = data\n",
    "        self.grad = 0.0\n",
    "        self._prev = set(_children)\n",
    "        self._op = _op\n",
    "\n",
    "    def __repr__(self):\n",
    "        return f\"Value(data={self.data}, grad={self.grad})\"\n",
    "\n",
    "    def __add__(self, other):\n",
    "        return Value(self.data + other.data, (self, other), '+')\n",
    "\n",
    "    def __mul__(self, other):\n",
    "        return Value(self.data * other.data, (self, other), '*')"
   ]
  },
  {
   "cell_type": "code",
   "execution_count": 42,
   "id": "251dabad-24ee-45c3-9e1c-bd0e52d409d4",
   "metadata": {},
   "outputs": [
    {
     "data": {
      "text/plain": [
       "Value(data=-8.0, grad=0.0)"
      ]
     },
     "execution_count": 42,
     "metadata": {},
     "output_type": "execute_result"
    }
   ],
   "source": [
    "a = Value(2.0)\n",
    "b = Value(-3.0)\n",
    "c = Value(10.0)\n",
    "e = a * b\n",
    "d = e + c\n",
    "f = Value(-2.0)\n",
    "L = d * f\n",
    "L"
   ]
  },
  {
   "cell_type": "markdown",
   "id": "14248578-76d7-4f34-a06e-32f5b9e627b4",
   "metadata": {},
   "source": [
    "### Derivatives\n",
    "A function of a real variable $f(x)$ is differentiable at a point $a$ of its domain, if its domain contains an open interval containing ⁠ $a$⁠, and the limit:\n",
    "$$\n",
    "L = \\lim_{h \\rightarrow 0} \\frac{f(a + h) - f(a)}{h}\n",
    "$$\n",
    "exists, it is called the derivative of $f$ at point $a$.\n",
    "\n",
    "#### 1. Derivative of $L$ in regards to $L$\n",
    "In the following, we have:\n",
    "$$\n",
    "L = d \\times f\n",
    "$$\n",
    "\n",
    "We calculate the derivative of $L$ in regards of $L$, we will have the following:\n",
    "$$\n",
    "\\frac{\\delta{L}}{\\delta{L}} = \\lim_{h \\rightarrow 0} \\frac{L(d,f) + h - L(d, f)}{h} = \\frac{d.f + h - d.f}{h} = \\frac{h}{h} = 1\n",
    "$$\n",
    "\n",
    "#### 2. Derivative of $L$ in regards to $d$\n",
    "We calculate the derivative of $L$ in regards of $d$, we will have the following:\n",
    "$$\n",
    "\\frac{\\delta{L}}{\\delta{d}} = \\lim_{h \\rightarrow 0} \\frac{L(d + h,f) - L(d, f)}{h} = \\frac{(d + h).f - d.f}{h} = \\frac{d.f + h.f - d.f}{h} = \\frac{h.f}{h} = f\n",
    "$$\n",
    "\n",
    "#### 3. Derivative of $L$ in regards to $f$\n",
    "We calculate the derivative of $L$ in regards of $f$, we will have the following:\n",
    "$$\n",
    "\\frac{\\delta{L}}{\\delta{d}} = \\lim_{h \\rightarrow 0} \\frac{L(d,f + h) - L(d, f)}{h} = \\frac{d.(f + h) - d.f}{h} = \\frac{d.f + d.h - d.f}{h} = \\frac{d.f}{h} = d\n",
    "$$"
   ]
  },
  {
   "cell_type": "code",
   "execution_count": 44,
   "id": "229a78f0-41d3-430b-8227-1981baea767a",
   "metadata": {},
   "outputs": [],
   "source": [
    "# L = d * f\n",
    "\n",
    "# dL/dL = 1\n",
    "L.grad = 1.0\n",
    "\n",
    "# dL/dd = f = 4.0\n",
    "d.grad = 4.0\n",
    "\n",
    "# dL/df = d = -2.0\n",
    "f.grad = -2.0"
   ]
  }
 ],
 "metadata": {
  "kernelspec": {
   "display_name": "Python 3 (ipykernel)",
   "language": "python",
   "name": "python3"
  },
  "language_info": {
   "codemirror_mode": {
    "name": "ipython",
    "version": 3
   },
   "file_extension": ".py",
   "mimetype": "text/x-python",
   "name": "python",
   "nbconvert_exporter": "python",
   "pygments_lexer": "ipython3",
   "version": "3.12.9"
  }
 },
 "nbformat": 4,
 "nbformat_minor": 5
}
