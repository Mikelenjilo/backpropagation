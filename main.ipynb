{
 "cells": [
  {
   "cell_type": "code",
   "execution_count": null,
   "id": "8a0d5df9-7ad9-4586-b019-ad0fafba7dbf",
   "metadata": {},
   "outputs": [],
   "source": [
    "import math\n",
    "import numpy as np\n",
    "import matplotlib.pyplot as plt\n",
    "from functions.trace_graph import draw_dot"
   ]
  },
  {
   "cell_type": "code",
   "execution_count": 7,
   "id": "ab24795b-d82c-4cb4-a32a-5899d815e340",
   "metadata": {},
   "outputs": [],
   "source": [
    "class Value:\n",
    "    def __init__(self, data, label='', _children=(), _op=''):\n",
    "        self.data = data\n",
    "        self.grad = 0.0\n",
    "        self.label = label\n",
    "        self._prev = set(_children)\n",
    "        self._op = _op\n",
    "\n",
    "    def __repr__(self):\n",
    "        return f\"Value(data={self.data}, grad={self.grad})\"\n",
    "\n",
    "    def __add__(self, other):\n",
    "        return Value(self.data + other.data, (self, other), '+')\n",
    "\n",
    "    def __mul__(self, other):\n",
    "        return Value(self.data * other.data, (self, other), '*')"
   ]
  },
  {
   "cell_type": "code",
   "execution_count": 8,
   "id": "251dabad-24ee-45c3-9e1c-bd0e52d409d4",
   "metadata": {},
   "outputs": [
    {
     "data": {
      "text/plain": [
       "Value(data=-8.0, grad=0.0)"
      ]
     },
     "execution_count": 8,
     "metadata": {},
     "output_type": "execute_result"
    }
   ],
   "source": [
    "a = Value(2.0, 'a')\n",
    "b = Value(-3.0, 'b')\n",
    "c = Value(10.0, 'c')\n",
    "e = a * b; e.label = 'e'\n",
    "d = e + c; d.label = 'd'\n",
    "f = Value(-2.0, 'f')\n",
    "L = d * f; L.label = 'L'\n",
    "L"
   ]
  },
  {
   "cell_type": "markdown",
   "id": "14248578-76d7-4f34-a06e-32f5b9e627b4",
   "metadata": {},
   "source": [
    "### Derivatives\n",
    "A function of a real variable $f(x)$ is differentiable at a point $a$ of its domain, if its domain contains an open interval containing ⁠ $a$⁠, and the limit:\n",
    "$$\n",
    "L = \\lim_{h \\rightarrow 0} \\frac{f(a + h) - f(a)}{h}\n",
    "$$\n",
    "exists, it is called the derivative of $f$ at point $a$.\n",
    "\n",
    "#### 1. Derivative of $L$ in regards to $L$\n",
    "In the following, we have:\n",
    "$$\n",
    "L = d \\times f\n",
    "$$\n",
    "\n",
    "We calculate the derivative of $L$ in regards of $L$, we will have the following:\n",
    "$$\n",
    "\\frac{\\delta{L}}{\\delta{L}} = \\lim_{h \\rightarrow 0} \\frac{L(d,f) + h - L(d, f)}{h} = \\frac{d.f + h - d.f}{h} = \\frac{h}{h} = 1\n",
    "$$\n",
    "\n",
    "#### 2. Derivative of $L$ in regards to $d$\n",
    "We calculate the derivative of $L$ in regards of $d$, we will have the following:\n",
    "$$\n",
    "\\frac{\\delta{L}}{\\delta{d}} = \\lim_{h \\rightarrow 0} \\frac{L(d + h,f) - L(d, f)}{h} = \\frac{(d + h).f - d.f}{h} = \\frac{d.f + h.f - d.f}{h} = \\frac{h.f}{h} = f\n",
    "$$\n",
    "\n",
    "#### 3. Derivative of $L$ in regards to $f$\n",
    "We calculate the derivative of $L$ in regards of $f$, we will have the following:\n",
    "$$\n",
    "\\frac{\\delta{L}}{\\delta{d}} = \\lim_{h \\rightarrow 0} \\frac{L(d,f + h) - L(d, f)}{h} = \\frac{d.(f + h) - d.f}{h} = \\frac{d.f + d.h - d.f}{h} = \\frac{d.f}{h} = d\n",
    "$$"
   ]
  },
  {
   "cell_type": "code",
   "execution_count": 9,
   "id": "229a78f0-41d3-430b-8227-1981baea767a",
   "metadata": {},
   "outputs": [],
   "source": [
    "# L = d * f\n",
    "\n",
    "# dL/dL = 1\n",
    "L.grad = 1.0\n",
    "\n",
    "# dL/dd = f = 4.0\n",
    "d.grad = 4.0\n",
    "\n",
    "# dL/df = d = -2.0\n",
    "f.grad = -2.0"
   ]
  },
  {
   "cell_type": "markdown",
   "id": "bf6b20fd-9372-4f06-ac73-41c2ee097d87",
   "metadata": {},
   "source": [
    "#### Chain Rule\n",
    "If a variable $z$ depends on the variable $y$, which itself depends on the variable $x$ (that is, $y$ and $z$ are dependent variables), then $z$ depends on $x$ as well, via the intermediate variable $y$. In this case, the chain rule is expressed as:\n",
    "$$\n",
    "\\frac{\\delta{z}}{\\delta{x}} = \\frac{\\delta{z}}{\\delta{y}} . \\frac{\\delta{y}}{\\delta{x}}\n",
    "$$"
   ]
  },
  {
   "cell_type": "code",
   "execution_count": 10,
   "id": "a44dcf69-a121-467d-a777-392c74df86b7",
   "metadata": {},
   "outputs": [
    {
     "ename": "NameError",
     "evalue": "name 'Digraph' is not defined",
     "output_type": "error",
     "traceback": [
      "\u001b[1;31m---------------------------------------------------------------------------\u001b[0m",
      "\u001b[1;31mNameError\u001b[0m                                 Traceback (most recent call last)",
      "Cell \u001b[1;32mIn[10], line 1\u001b[0m\n\u001b[1;32m----> 1\u001b[0m draw_dot(L)\n",
      "File \u001b[1;32m~\\Work\\Projects\\backpropagation\\functions\\trace_graph.py:15\u001b[0m, in \u001b[0;36mdraw_dot\u001b[1;34m(root)\u001b[0m\n\u001b[0;32m     14\u001b[0m \u001b[38;5;28;01mdef\u001b[39;00m \u001b[38;5;21mdraw_dot\u001b[39m(root):\n\u001b[1;32m---> 15\u001b[0m   dot \u001b[38;5;241m=\u001b[39m Digraph(\u001b[38;5;28mformat\u001b[39m\u001b[38;5;241m=\u001b[39m\u001b[38;5;124m'\u001b[39m\u001b[38;5;124msvg\u001b[39m\u001b[38;5;124m'\u001b[39m, graph_attr\u001b[38;5;241m=\u001b[39m{\u001b[38;5;124m'\u001b[39m\u001b[38;5;124mrankdir\u001b[39m\u001b[38;5;124m'\u001b[39m: \u001b[38;5;124m'\u001b[39m\u001b[38;5;124mLR\u001b[39m\u001b[38;5;124m'\u001b[39m}) \u001b[38;5;66;03m# LR = left to right\u001b[39;00m\n\u001b[0;32m     17\u001b[0m   nodes, edges \u001b[38;5;241m=\u001b[39m trace(root)\n\u001b[0;32m     18\u001b[0m   \u001b[38;5;28;01mfor\u001b[39;00m n \u001b[38;5;129;01min\u001b[39;00m nodes:\n",
      "\u001b[1;31mNameError\u001b[0m: name 'Digraph' is not defined"
     ]
    }
   ],
   "source": [
    "draw_dot(L)"
   ]
  }
 ],
 "metadata": {
  "kernelspec": {
   "display_name": "Python 3 (ipykernel)",
   "language": "python",
   "name": "python3"
  },
  "language_info": {
   "codemirror_mode": {
    "name": "ipython",
    "version": 3
   },
   "file_extension": ".py",
   "mimetype": "text/x-python",
   "name": "python",
   "nbconvert_exporter": "python",
   "pygments_lexer": "ipython3",
   "version": "3.12.9"
  }
 },
 "nbformat": 4,
 "nbformat_minor": 5
}
